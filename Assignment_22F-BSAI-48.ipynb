{
 "cells": [
  {
   "cell_type": "markdown",
   "id": "5064ed88",
   "metadata": {},
   "source": [
    "# Importing Libraries"
   ]
  },
  {
   "cell_type": "code",
   "execution_count": 2,
   "id": "a9805a54",
   "metadata": {},
   "outputs": [],
   "source": [
    "import pandas as pd\n",
    "import numpy as np\n",
    "import seaborn as sns\n",
    "import matplotlib.pyplot as plt"
   ]
  },
  {
   "cell_type": "markdown",
   "id": "2f80a164",
   "metadata": {},
   "source": [
    "# Importing Dataset"
   ]
  },
  {
   "cell_type": "code",
   "execution_count": 4,
   "id": "5c61d9c0",
   "metadata": {},
   "outputs": [
    {
     "data": {
      "text/html": [
       "<div>\n",
       "<style scoped>\n",
       "    .dataframe tbody tr th:only-of-type {\n",
       "        vertical-align: middle;\n",
       "    }\n",
       "\n",
       "    .dataframe tbody tr th {\n",
       "        vertical-align: top;\n",
       "    }\n",
       "\n",
       "    .dataframe thead th {\n",
       "        text-align: right;\n",
       "    }\n",
       "</style>\n",
       "<table border=\"1\" class=\"dataframe\">\n",
       "  <thead>\n",
       "    <tr style=\"text-align: right;\">\n",
       "      <th></th>\n",
       "      <th>PatientID</th>\n",
       "      <th>Gender</th>\n",
       "      <th>Age</th>\n",
       "      <th>CholesterolLevel</th>\n",
       "      <th>BloodPressure</th>\n",
       "      <th>Region</th>\n",
       "      <th>RiskCategory</th>\n",
       "    </tr>\n",
       "  </thead>\n",
       "  <tbody>\n",
       "    <tr>\n",
       "      <th>0</th>\n",
       "      <td>1</td>\n",
       "      <td>Male</td>\n",
       "      <td>37</td>\n",
       "      <td>193.4</td>\n",
       "      <td>129.4</td>\n",
       "      <td>East</td>\n",
       "      <td>High</td>\n",
       "    </tr>\n",
       "    <tr>\n",
       "      <th>1</th>\n",
       "      <td>2</td>\n",
       "      <td>Female</td>\n",
       "      <td>45</td>\n",
       "      <td>210.7</td>\n",
       "      <td>107.1</td>\n",
       "      <td>West</td>\n",
       "      <td>Low</td>\n",
       "    </tr>\n",
       "    <tr>\n",
       "      <th>2</th>\n",
       "      <td>3</td>\n",
       "      <td>Male</td>\n",
       "      <td>63</td>\n",
       "      <td>244.3</td>\n",
       "      <td>103.9</td>\n",
       "      <td>West</td>\n",
       "      <td>Low</td>\n",
       "    </tr>\n",
       "    <tr>\n",
       "      <th>3</th>\n",
       "      <td>4</td>\n",
       "      <td>Male</td>\n",
       "      <td>53</td>\n",
       "      <td>184.5</td>\n",
       "      <td>127.2</td>\n",
       "      <td>West</td>\n",
       "      <td>High</td>\n",
       "    </tr>\n",
       "    <tr>\n",
       "      <th>4</th>\n",
       "      <td>5</td>\n",
       "      <td>Male</td>\n",
       "      <td>29</td>\n",
       "      <td>175.7</td>\n",
       "      <td>116.6</td>\n",
       "      <td>South</td>\n",
       "      <td>High</td>\n",
       "    </tr>\n",
       "    <tr>\n",
       "      <th>...</th>\n",
       "      <td>...</td>\n",
       "      <td>...</td>\n",
       "      <td>...</td>\n",
       "      <td>...</td>\n",
       "      <td>...</td>\n",
       "      <td>...</td>\n",
       "      <td>...</td>\n",
       "    </tr>\n",
       "    <tr>\n",
       "      <th>95</th>\n",
       "      <td>96</td>\n",
       "      <td>Female</td>\n",
       "      <td>58</td>\n",
       "      <td>224.8</td>\n",
       "      <td>126.9</td>\n",
       "      <td>East</td>\n",
       "      <td>High</td>\n",
       "    </tr>\n",
       "    <tr>\n",
       "      <th>96</th>\n",
       "      <td>97</td>\n",
       "      <td>Female</td>\n",
       "      <td>68</td>\n",
       "      <td>200.4</td>\n",
       "      <td>123.0</td>\n",
       "      <td>North</td>\n",
       "      <td>Medium</td>\n",
       "    </tr>\n",
       "    <tr>\n",
       "      <th>97</th>\n",
       "      <td>98</td>\n",
       "      <td>Female</td>\n",
       "      <td>71</td>\n",
       "      <td>243.6</td>\n",
       "      <td>111.0</td>\n",
       "      <td>West</td>\n",
       "      <td>Low</td>\n",
       "    </tr>\n",
       "    <tr>\n",
       "      <th>98</th>\n",
       "      <td>99</td>\n",
       "      <td>Female</td>\n",
       "      <td>51</td>\n",
       "      <td>192.1</td>\n",
       "      <td>121.0</td>\n",
       "      <td>West</td>\n",
       "      <td>High</td>\n",
       "    </tr>\n",
       "    <tr>\n",
       "      <th>99</th>\n",
       "      <td>100</td>\n",
       "      <td>Male</td>\n",
       "      <td>23</td>\n",
       "      <td>281.6</td>\n",
       "      <td>114.2</td>\n",
       "      <td>North</td>\n",
       "      <td>High</td>\n",
       "    </tr>\n",
       "  </tbody>\n",
       "</table>\n",
       "<p>100 rows × 7 columns</p>\n",
       "</div>"
      ],
      "text/plain": [
       "    PatientID  Gender  Age  CholesterolLevel  BloodPressure Region  \\\n",
       "0           1    Male   37             193.4          129.4   East   \n",
       "1           2  Female   45             210.7          107.1   West   \n",
       "2           3    Male   63             244.3          103.9   West   \n",
       "3           4    Male   53             184.5          127.2   West   \n",
       "4           5    Male   29             175.7          116.6  South   \n",
       "..        ...     ...  ...               ...            ...    ...   \n",
       "95         96  Female   58             224.8          126.9   East   \n",
       "96         97  Female   68             200.4          123.0  North   \n",
       "97         98  Female   71             243.6          111.0   West   \n",
       "98         99  Female   51             192.1          121.0   West   \n",
       "99        100    Male   23             281.6          114.2  North   \n",
       "\n",
       "   RiskCategory  \n",
       "0          High  \n",
       "1           Low  \n",
       "2           Low  \n",
       "3          High  \n",
       "4          High  \n",
       "..          ...  \n",
       "95         High  \n",
       "96       Medium  \n",
       "97          Low  \n",
       "98         High  \n",
       "99         High  \n",
       "\n",
       "[100 rows x 7 columns]"
      ]
     },
     "execution_count": 4,
     "metadata": {},
     "output_type": "execute_result"
    }
   ],
   "source": [
    "df=pd.read_csv(r'patient_data.csv')\n",
    "df"
   ]
  },
  {
   "cell_type": "markdown",
   "id": "6fdf3d6f",
   "metadata": {},
   "source": [
    "# Q1: Outlier Detection and Feature Reduction (2 Marks)\n",
    "- Use VarianceThreshold to remove constant features (if any).\n",
    "- Detect and remove outliers from CholesterolLevel using any method of choice.\n",
    "- Replace any missing values."
   ]
  },
  {
   "cell_type": "code",
   "execution_count": 5,
   "id": "50c46adb",
   "metadata": {},
   "outputs": [],
   "source": [
    "# Selecting numerical columns\n",
    "numerical_columns = df.select_dtypes(include=[\"int64\", \"float64\"]).columns\n",
    "x = df[numerical_columns]"
   ]
  },
  {
   "cell_type": "code",
   "execution_count": 6,
   "id": "4493c4a0",
   "metadata": {},
   "outputs": [
    {
     "data": {
      "text/plain": [
       "VarianceThreshold(threshold=0)"
      ]
     },
     "execution_count": 6,
     "metadata": {},
     "output_type": "execute_result"
    }
   ],
   "source": [
    "#Apply Variance Threshold\n",
    "from sklearn.feature_selection import VarianceThreshold\n",
    "var_thres=VarianceThreshold(threshold=0)\n",
    "var_thres.fit(x)"
   ]
  },
  {
   "cell_type": "code",
   "execution_count": 7,
   "id": "91a31b7a",
   "metadata": {},
   "outputs": [
    {
     "data": {
      "text/plain": [
       "array([ True,  True,  True,  True])"
      ]
     },
     "execution_count": 7,
     "metadata": {},
     "output_type": "execute_result"
    }
   ],
   "source": [
    "#Detecting Non constant column\n",
    "var_thres.get_support()"
   ]
  },
  {
   "cell_type": "code",
   "execution_count": 8,
   "id": "a70e531d",
   "metadata": {},
   "outputs": [],
   "source": [
    "#It gives all true values means there is no constant column"
   ]
  },
  {
   "cell_type": "code",
   "execution_count": 10,
   "id": "ff06d697",
   "metadata": {},
   "outputs": [
    {
     "data": {
      "text/html": [
       "<div>\n",
       "<style scoped>\n",
       "    .dataframe tbody tr th:only-of-type {\n",
       "        vertical-align: middle;\n",
       "    }\n",
       "\n",
       "    .dataframe tbody tr th {\n",
       "        vertical-align: top;\n",
       "    }\n",
       "\n",
       "    .dataframe thead th {\n",
       "        text-align: right;\n",
       "    }\n",
       "</style>\n",
       "<table border=\"1\" class=\"dataframe\">\n",
       "  <thead>\n",
       "    <tr style=\"text-align: right;\">\n",
       "      <th></th>\n",
       "      <th>PatientID</th>\n",
       "      <th>Gender</th>\n",
       "      <th>Age</th>\n",
       "      <th>CholesterolLevel</th>\n",
       "      <th>BloodPressure</th>\n",
       "      <th>Region</th>\n",
       "      <th>RiskCategory</th>\n",
       "    </tr>\n",
       "  </thead>\n",
       "  <tbody>\n",
       "    <tr>\n",
       "      <th>0</th>\n",
       "      <td>1</td>\n",
       "      <td>Male</td>\n",
       "      <td>37</td>\n",
       "      <td>193.4</td>\n",
       "      <td>129.4</td>\n",
       "      <td>East</td>\n",
       "      <td>High</td>\n",
       "    </tr>\n",
       "    <tr>\n",
       "      <th>1</th>\n",
       "      <td>2</td>\n",
       "      <td>Female</td>\n",
       "      <td>45</td>\n",
       "      <td>210.7</td>\n",
       "      <td>107.1</td>\n",
       "      <td>West</td>\n",
       "      <td>Low</td>\n",
       "    </tr>\n",
       "    <tr>\n",
       "      <th>2</th>\n",
       "      <td>3</td>\n",
       "      <td>Male</td>\n",
       "      <td>63</td>\n",
       "      <td>244.3</td>\n",
       "      <td>103.9</td>\n",
       "      <td>West</td>\n",
       "      <td>Low</td>\n",
       "    </tr>\n",
       "    <tr>\n",
       "      <th>3</th>\n",
       "      <td>4</td>\n",
       "      <td>Male</td>\n",
       "      <td>53</td>\n",
       "      <td>184.5</td>\n",
       "      <td>127.2</td>\n",
       "      <td>West</td>\n",
       "      <td>High</td>\n",
       "    </tr>\n",
       "    <tr>\n",
       "      <th>4</th>\n",
       "      <td>5</td>\n",
       "      <td>Male</td>\n",
       "      <td>29</td>\n",
       "      <td>175.7</td>\n",
       "      <td>116.6</td>\n",
       "      <td>South</td>\n",
       "      <td>High</td>\n",
       "    </tr>\n",
       "    <tr>\n",
       "      <th>...</th>\n",
       "      <td>...</td>\n",
       "      <td>...</td>\n",
       "      <td>...</td>\n",
       "      <td>...</td>\n",
       "      <td>...</td>\n",
       "      <td>...</td>\n",
       "      <td>...</td>\n",
       "    </tr>\n",
       "    <tr>\n",
       "      <th>94</th>\n",
       "      <td>95</td>\n",
       "      <td>Female</td>\n",
       "      <td>51</td>\n",
       "      <td>208.3</td>\n",
       "      <td>105.3</td>\n",
       "      <td>East</td>\n",
       "      <td>Low</td>\n",
       "    </tr>\n",
       "    <tr>\n",
       "      <th>95</th>\n",
       "      <td>96</td>\n",
       "      <td>Female</td>\n",
       "      <td>58</td>\n",
       "      <td>224.8</td>\n",
       "      <td>126.9</td>\n",
       "      <td>East</td>\n",
       "      <td>High</td>\n",
       "    </tr>\n",
       "    <tr>\n",
       "      <th>96</th>\n",
       "      <td>97</td>\n",
       "      <td>Female</td>\n",
       "      <td>68</td>\n",
       "      <td>200.4</td>\n",
       "      <td>123.0</td>\n",
       "      <td>North</td>\n",
       "      <td>Medium</td>\n",
       "    </tr>\n",
       "    <tr>\n",
       "      <th>97</th>\n",
       "      <td>98</td>\n",
       "      <td>Female</td>\n",
       "      <td>71</td>\n",
       "      <td>243.6</td>\n",
       "      <td>111.0</td>\n",
       "      <td>West</td>\n",
       "      <td>Low</td>\n",
       "    </tr>\n",
       "    <tr>\n",
       "      <th>98</th>\n",
       "      <td>99</td>\n",
       "      <td>Female</td>\n",
       "      <td>51</td>\n",
       "      <td>192.1</td>\n",
       "      <td>121.0</td>\n",
       "      <td>West</td>\n",
       "      <td>High</td>\n",
       "    </tr>\n",
       "  </tbody>\n",
       "</table>\n",
       "<p>98 rows × 7 columns</p>\n",
       "</div>"
      ],
      "text/plain": [
       "    PatientID  Gender  Age  CholesterolLevel  BloodPressure Region  \\\n",
       "0           1    Male   37             193.4          129.4   East   \n",
       "1           2  Female   45             210.7          107.1   West   \n",
       "2           3    Male   63             244.3          103.9   West   \n",
       "3           4    Male   53             184.5          127.2   West   \n",
       "4           5    Male   29             175.7          116.6  South   \n",
       "..        ...     ...  ...               ...            ...    ...   \n",
       "94         95  Female   51             208.3          105.3   East   \n",
       "95         96  Female   58             224.8          126.9   East   \n",
       "96         97  Female   68             200.4          123.0  North   \n",
       "97         98  Female   71             243.6          111.0   West   \n",
       "98         99  Female   51             192.1          121.0   West   \n",
       "\n",
       "   RiskCategory  \n",
       "0          High  \n",
       "1           Low  \n",
       "2           Low  \n",
       "3          High  \n",
       "4          High  \n",
       "..          ...  \n",
       "94          Low  \n",
       "95         High  \n",
       "96       Medium  \n",
       "97          Low  \n",
       "98         High  \n",
       "\n",
       "[98 rows x 7 columns]"
      ]
     },
     "execution_count": 10,
     "metadata": {},
     "output_type": "execute_result"
    }
   ],
   "source": [
    "# Drop missing values temporarily for outlier detection\n",
    "chol = df['CholesterolLevel'].dropna()\n",
    "\n",
    "# Calculate IQR\n",
    "Q1 = chol.quantile(0.25)\n",
    "Q3 = chol.quantile(0.75)\n",
    "IQR = Q3 - Q1\n",
    "\n",
    "# Define bounds\n",
    "lower_bound = Q1 - 1.5 * IQR\n",
    "upper_bound = Q3 + 1.5 * IQR\n",
    "\n",
    "# Filter out outliers\n",
    "df = df[(df['CholesterolLevel'] >= lower_bound) & (df['CholesterolLevel'] <= upper_bound)]\n",
    "\n",
    "\n",
    "df"
   ]
  },
  {
   "cell_type": "markdown",
   "id": "abb1ca9a",
   "metadata": {},
   "source": [
    "# Q2: Data Visualization (2 Marks)\n",
    "- Generate a box plot comparing BloodPressure between different RiskCategory levels.\n",
    "- Create a count plot showing the number of patients in each RiskCategory per Region."
   ]
  },
  {
   "cell_type": "code",
   "execution_count": 11,
   "id": "fe4526b9",
   "metadata": {},
   "outputs": [
    {
     "data": {
      "text/plain": [
       "<AxesSubplot:xlabel='RiskCategory', ylabel='BloodPressure'>"
      ]
     },
     "execution_count": 11,
     "metadata": {},
     "output_type": "execute_result"
    },
    {
     "data": {
      "image/png": "[encoded data removed]",
      "text/plain": [
       "<Figure size 432x288 with 1 Axes>"
      ]
     },
     "metadata": {
      "needs_background": "light"
     },
     "output_type": "display_data"
    }
   ],
   "source": [
    "#Box Plot\n",
    "sns.boxplot(data=df, x='RiskCategory', y='BloodPressure')"
   ]
  },
  {
   "cell_type": "code",
   "execution_count": 12,
   "id": "6390a055",
   "metadata": {},
   "outputs": [
    {
     "data": {
      "text/plain": [
       "<AxesSubplot:xlabel='Region', ylabel='count'>"
      ]
     },
     "execution_count": 12,
     "metadata": {},
     "output_type": "execute_result"
    },
    {
     "data": {
      "image/png": "[encoded data removed]",
      "text/plain": [
       "<Figure size 432x288 with 1 Axes>"
      ]
     },
     "metadata": {
      "needs_background": "light"
     },
     "output_type": "display_data"
    }
   ],
   "source": [
    "#Count Plot\n",
    "sns.countplot(data=df, x='Region', hue='RiskCategory')"
   ]
  },
  {
   "cell_type": "markdown",
   "id": "4b9e5a17",
   "metadata": {},
   "source": [
    "# Q3: Statistical Hypothesis Testing (3 Marks)\n",
    "Perform the following:\n",
    "- Is the average CholesterolLevel significantly different from 200 mg/dL having a sample \n",
    "size of 20?\n",
    "- Is there a significant relationship between Region and RiskCategory?\n",
    "\n",
    "Include:\n",
    "- Null and alternative hypotheses\n",
    "- Test statistic, p-value\n",
    "- Your interpretation (reject/fail to reject H₀)\n"
   ]
  },
  {
   "cell_type": "code",
   "execution_count": 13,
   "id": "650e779a",
   "metadata": {},
   "outputs": [
    {
     "name": "stdout",
     "output_type": "stream",
     "text": [
      "T-statistic: 1.4931573022192761\n",
      "P-value: 0.1518165996379957\n"
     ]
    }
   ],
   "source": [
    "from scipy import stats\n",
    "y= df['CholesterolLevel']\n",
    "pop_mean=200\n",
    "sample_size=20\n",
    "random_sample=np.random.choice(df['CholesterolLevel'],sample_size)\n",
    "t_stat, p_value = stats.ttest_1samp(random_sample, pop_mean)\n",
    "\n",
    "#Test statistic, p-value\n",
    "print(\"T-statistic:\", t_stat)\n",
    "print(\"P-value:\", p_value)"
   ]
  },
  {
   "cell_type": "raw",
   "id": "40a5954f",
   "metadata": {},
   "source": [
    "Null hypothesis (H₀): μ = 200 (The average CholesterolLevel is 200 mg/dL)\n",
    "\n",
    "Alternative hypothesis (H₁): μ ≠ 200 (The average CholesterolLevel is not 200 mg/dL)"
   ]
  },
  {
   "cell_type": "code",
   "execution_count": 14,
   "id": "7ba7a82f",
   "metadata": {},
   "outputs": [
    {
     "name": "stdout",
     "output_type": "stream",
     "text": [
      "Fail to reject null hypothesis\n"
     ]
    }
   ],
   "source": [
    "#Interpretation (reject/fail to reject H₀)\n",
    "if p_value < 0.05:    # alpha value is 0.05 or 5%\n",
    "    print(\"Rejecting null hypothesis\")\n",
    "else:\n",
    "    print(\"Fail to reject null hypothesis\")"
   ]
  },
  {
   "cell_type": "code",
   "execution_count": 15,
   "id": "28ca4c22",
   "metadata": {},
   "outputs": [
    {
     "name": "stdout",
     "output_type": "stream",
     "text": [
      "Chi-square Statistic: 4.8246822108149345\n",
      "P-value: 0.5664877563797075\n"
     ]
    }
   ],
   "source": [
    "#Significant relationship between Region and RiskCategory\n",
    "contingency_table = pd.crosstab(df['Region'], df['RiskCategory'])\n",
    "chi2_stat, p_val, dof, expected = stats.chi2_contingency(contingency_table)\n",
    "\n",
    "print(\"Chi-square Statistic:\", chi2_stat)\n",
    "print(\"P-value:\", p_val)\n"
   ]
  },
  {
   "cell_type": "raw",
   "id": "6a6fd45b",
   "metadata": {},
   "source": [
    "H₀: Region and RiskCategory are independent\n",
    "\n",
    "H₁: There is a significant association between Region and RiskCategory"
   ]
  },
  {
   "cell_type": "code",
   "execution_count": 34,
   "id": "5bb19116",
   "metadata": {},
   "outputs": [
    {
     "name": "stdout",
     "output_type": "stream",
     "text": [
      "Fail to reject null hypothesis\n"
     ]
    }
   ],
   "source": [
    "#Interpretation (reject/fail to reject H₀)\n",
    "if p_value < 0.05:    # alpha value is 0.05 or 5%\n",
    "    print(\"Rejecting null hypothesis\")\n",
    "else:\n",
    "    print(\"Fail to reject null hypothesis\")"
   ]
  },
  {
   "cell_type": "markdown",
   "id": "dbd04090",
   "metadata": {},
   "source": [
    "# Q4: Modeling a Health System with ODE (3 Marks)\n",
    "Model the progression of a patient's medication in the bloodstream.\n",
    "Equation:\n",
    " dC/dt = k(D - C)\n",
    "Where:\n",
    "- k = 0.1, D = 100, C(0) = 0\n",
    "- Solve this ODE for t = 0 to 50 using both odeint and solve_ivp\n",
    "- Plot the result and explain the difference in output between the two solvers, if any"
   ]
  },
  {
   "cell_type": "code",
   "execution_count": 16,
   "id": "0ced36c4",
   "metadata": {},
   "outputs": [
    {
     "data": {
      "image/png": "[encoded data removed]",
      "text/plain": [
       "<Figure size 720x432 with 1 Axes>"
      ]
     },
     "metadata": {
      "needs_background": "light"
     },
     "output_type": "display_data"
    }
   ],
   "source": [
    "from scipy.integrate import odeint, solve_ivp\n",
    "\n",
    "# Parameters\n",
    "k = 0.1\n",
    "D = 100\n",
    "\n",
    "# Time range\n",
    "t = np.linspace(0, 50, 200)\n",
    "\n",
    "# Initial condition\n",
    "C0 = 0\n",
    "\n",
    "# ODE function\n",
    "def dCdt(C, t):\n",
    "    return k * (D - C)\n",
    "\n",
    "def dCdt_ivp(t, C):\n",
    "    return k * (D - C)\n",
    "\n",
    "# Using odeint\n",
    "C_odeint = odeint(dCdt, C0, t)\n",
    "\n",
    "# Using solve_ivp\n",
    "sol = solve_ivp(dCdt_ivp, [0, 50], [C0], t_eval=t)\n",
    "\n",
    "# Plotting\n",
    "plt.figure(figsize=(10, 6))\n",
    "plt.plot(t, C_odeint, label='odeint', linewidth=2)\n",
    "plt.plot(sol.t, sol.y[0], '--', label='solve_ivp', linewidth=2)\n",
    "plt.title('Medication Concentration in Bloodstream Over Time')\n",
    "plt.xlabel('Time (t)')\n",
    "plt.ylabel('Concentration (C)')\n",
    "plt.legend()\n",
    "plt.grid(True)\n",
    "plt.tight_layout()\n",
    "plt.show()"
   ]
  }
 ],
 "metadata": {
  "kernelspec": {
   "display_name": "Python 3 (ipykernel)",
   "language": "python",
   "name": "python3"
  },
  "language_info": {
   "codemirror_mode": {
    "name": "ipython",
    "version": 3
   },
   "file_extension": ".py",
   "mimetype": "text/x-python",
   "name": "python",
   "nbconvert_exporter": "python",
   "pygments_lexer": "ipython3",
   "version": "3.9.12"
  }
 },
 "nbformat": 4,
 "nbformat_minor": 5
}
